{
 "cells": [
  {
   "cell_type": "code",
   "execution_count": 5,
   "metadata": {},
   "outputs": [
    {
     "name": "stdout",
     "output_type": "stream",
     "text": [
      "Please enter a Number1\n",
      "Please enter a Number2\n",
      "Please enter a Number3\n",
      "Please enter a Numberf\n",
      "Not an integer! Try again.\n",
      "Please enter a Number4\n",
      "Please enter a Number5\n",
      "Please enter a Number6\n",
      "Please enter a Number7\n",
      "Please enter a Number8\n",
      "Please enter a Number9\n",
      "Please enter a Number10\n",
      "user list is\n",
      "[1, 2, 3, 4, 5, 6, 7, 8, 9, 10]\n",
      "[1, 2, 3, 4, 5, 6, 7, 8, 9, 10]\n",
      "Sum =  55\n",
      "Max = 10\n",
      "Min = 1\n",
      "Range = 1 - 10\n",
      "Mean = 5.5\n",
      "Variance = 8.25\n",
      "Standard Deviation 2.8722813232690143\n"
     ]
    }
   ],
   "source": [
    "def inputNumber(message):\n",
    "  while True:\n",
    "    try:\n",
    "       userInput = int(input(message))       \n",
    "    except ValueError:\n",
    "       print(\"Not an integer! Try again.\")\n",
    "       continue\n",
    "    else:\n",
    "       return userInput \n",
    "       break \n",
    "input_string = [] \n",
    "maxLengthList = 10\n",
    "while len(input_string) < maxLengthList:\n",
    "    item = inputNumber(\"Please enter a Number\")\n",
    "    input_string.append(item)\n",
    "print(\"user list is\")\n",
    "print(input_string)\n",
    "\n",
    "for i in range(0, len(input_string)): \n",
    "    input_string[i] = int(input_string[i]) \n",
    "# Calculating the sum of input list elements\n",
    "a = input_string\n",
    "sum1 = 0\n",
    "for num in a:\n",
    "    sum1 = sum1 + (num)\n",
    "# Calculating min and max\n",
    "max1 = max(a) \n",
    "min1 = min(a)\n",
    "\n",
    "# Calculating the mean\n",
    "mean1 = sum1/len(a)\n",
    "\n",
    "# Calculating Variance\n",
    "n=len(a)\n",
    "deviations = [(x - mean1)**2 for x in a]\n",
    "sum2 = 0\n",
    "for num in deviations:\n",
    "    sum2 = sum2 + (num)\n",
    "    \n",
    "var1 = sum2/n\n",
    "\n",
    "#calculating standard deviation\n",
    "\n",
    "import math\n",
    "\n",
    "std_dev = math.sqrt(var1)\n",
    "\n",
    "#Prints assignment answers\n",
    "print(a)\n",
    "print(\"Sum = \", sum1)\n",
    "print (\"Max =\", max1)\n",
    "print (\"Min =\", min1)\n",
    "print (\"Range =\",min1,\"-\",max1)\n",
    "print (\"Mean =\",mean1)\n",
    "print (\"Variance =\", var1)\n",
    "print (\"Standard Deviation\", std_dev)"
   ]
  },
  {
   "cell_type": "code",
   "execution_count": null,
   "metadata": {},
   "outputs": [],
   "source": []
  },
  {
   "cell_type": "code",
   "execution_count": null,
   "metadata": {},
   "outputs": [],
   "source": []
  },
  {
   "cell_type": "code",
   "execution_count": null,
   "metadata": {},
   "outputs": [],
   "source": []
  }
 ],
 "metadata": {
  "kernelspec": {
   "display_name": "Python 3",
   "language": "python",
   "name": "python3"
  },
  "language_info": {
   "codemirror_mode": {
    "name": "ipython",
    "version": 3
   },
   "file_extension": ".py",
   "mimetype": "text/x-python",
   "name": "python",
   "nbconvert_exporter": "python",
   "pygments_lexer": "ipython3",
   "version": "3.8.3"
  }
 },
 "nbformat": 4,
 "nbformat_minor": 4
}
