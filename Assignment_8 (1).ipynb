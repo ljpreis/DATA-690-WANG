{
 "cells": [
  {
   "cell_type": "code",
   "execution_count": 16,
   "metadata": {},
   "outputs": [],
   "source": [
    "# Import libraries\n",
    "\n",
    "import os\n",
    "import random\n",
    "import pandas as pd\n",
    "import numpy"
   ]
  },
  {
   "cell_type": "code",
   "execution_count": 32,
   "metadata": {},
   "outputs": [
    {
     "name": "stdout",
     "output_type": "stream",
     "text": [
      "there are 7238 values\n",
      "there are 3157 nan values\n",
      "there are 0 observations with a value of 0\n",
      "nan and 0 values have been removed\n",
      "there are 4081 values\n"
     ]
    }
   ],
   "source": [
    "#Use this to test the components of the select random function\n",
    "\n",
    "random_file=random.choice(os.listdir('CollegeDocs'))\n",
    "fields = ['TUITIONFEE_IN']\n",
    "file_location='CollegeDocs/'+random_file\n",
    "df = pd.read_csv(file_location, usecols=fields)\n",
    "print('there are',len(df),'values')\n",
    "print('there are',df.isnull().sum().sum(),'nan values')\n",
    "print('there are',len(df[df['TUITIONFEE_IN'] == 0]), 'observations with a value of 0')\n",
    "df=df.dropna()\n",
    "df = df[df['TUITIONFEE_IN'] != 0]\n",
    "print('nan and 0 values have been removed')\n",
    "print('there are',len(df),'values')\n",
    "\n"
   ]
  },
  {
   "cell_type": "code",
   "execution_count": 35,
   "metadata": {},
   "outputs": [
    {
     "ename": "SyntaxError",
     "evalue": "invalid syntax (<ipython-input-35-7ca0a26f5af9>, line 13)",
     "output_type": "error",
     "traceback": [
      "\u001b[0;36m  File \u001b[0;32m\"<ipython-input-35-7ca0a26f5af9>\"\u001b[0;36m, line \u001b[0;32m13\u001b[0m\n\u001b[0;31m    out df\u001b[0m\n\u001b[0m        ^\u001b[0m\n\u001b[0;31mSyntaxError\u001b[0m\u001b[0;31m:\u001b[0m invalid syntax\n"
     ]
    }
   ],
   "source": [
    "#define the function\n",
    "\n",
    "def select_random_file():\n",
    "    random_file=random.choice(os.listdir('CollegeDocs'))\n",
    "    fields = ['TUITIONFEE_IN']\n",
    "    file_location='CollegeDocs/'+random_file\n",
    "    df = pd.read_csv(file_location, usecols=fields)\n",
    "    print('there are',len(df),'values')\n",
    "    print('there are',df.isnull().sum().sum(),'nan values')\n",
    "    print('there are',len(df[df['TUITIONFEE_IN'] == 0]), 'observations with a value of 0')\n",
    "    df=df.dropna()\n",
    "    df = df[df['TUITIONFEE_IN'] != 0]\n",
    "    print('nan and 0 values have been removed')\n",
    "    print('there are',len(df),'values')\n",
    "    "
   ]
  },
  {
   "cell_type": "code",
   "execution_count": null,
   "metadata": {},
   "outputs": [],
   "source": []
  },
  {
   "cell_type": "code",
   "execution_count": 34,
   "metadata": {},
   "outputs": [
    {
     "name": "stdout",
     "output_type": "stream",
     "text": [
      "there are 7869 values\n",
      "there are 3342 nan values\n",
      "there are 2 observations with a value of 0\n",
      "nan and 0 values have been removed\n",
      "there are 4525 values\n"
     ]
    }
   ],
   "source": [
    "#run the function\n",
    "select_random_file()"
   ]
  },
  {
   "cell_type": "code",
   "execution_count": 92,
   "metadata": {},
   "outputs": [],
   "source": [
    "##Define a function that you can run multiple times\n",
    "def obs_v_pop_mean():\n",
    "    pop_mean=df.TUITIONFEE_IN.mean()\n",
    "    df2=df.sample()\n",
    "    randomT=df2.iloc[0]['TUITIONFEE_IN']\n",
    "    print('The mean tuition of the data set is',pop_mean)\n",
    "    print('The tuition of the observation is',randomT)\n",
    "    print('The difference between the population mean and the observation is',pop_mean-randomT)"
   ]
  },
  {
   "cell_type": "code",
   "execution_count": 41,
   "metadata": {},
   "outputs": [
    {
     "data": {
      "text/plain": [
       "14686.159029649596"
      ]
     },
     "execution_count": 41,
     "metadata": {},
     "output_type": "execute_result"
    }
   ],
   "source": [
    "meanpop"
   ]
  },
  {
   "cell_type": "code",
   "execution_count": 74,
   "metadata": {},
   "outputs": [],
   "source": [
    "df2=df.sample()\n"
   ]
  },
  {
   "cell_type": "code",
   "execution_count": 80,
   "metadata": {},
   "outputs": [
    {
     "data": {
      "text/plain": [
       "5820.0"
      ]
     },
     "execution_count": 80,
     "metadata": {},
     "output_type": "execute_result"
    }
   ],
   "source": [
    "df2.iloc[0]['TUITIONFEE_IN']"
   ]
  },
  {
   "cell_type": "code",
   "execution_count": 87,
   "metadata": {},
   "outputs": [
    {
     "name": "stdout",
     "output_type": "stream",
     "text": [
      "The mean tuition of the data set is 14686.159029649596\n",
      "the tuition of the observation is 26275.0\n",
      "The difference between the population mean and the observation is -11588.840970350404\n"
     ]
    }
   ],
   "source": [
    "obs_v_pop_mean()"
   ]
  },
  {
   "cell_type": "code",
   "execution_count": 89,
   "metadata": {},
   "outputs": [
    {
     "name": "stdout",
     "output_type": "stream",
     "text": [
      "The mean tuition of the data set is 14686.159029649596\n",
      "The tuition of the observation is 4178.0\n",
      "The difference between the population mean and the observation is 10508.159029649596\n"
     ]
    }
   ],
   "source": [
    "obs_v_pop_mean()"
   ]
  },
  {
   "cell_type": "code",
   "execution_count": 90,
   "metadata": {},
   "outputs": [
    {
     "name": "stdout",
     "output_type": "stream",
     "text": [
      "The mean tuition of the data set is 14686.159029649596\n",
      "The tuition of the observation is 7754.0\n",
      "The difference between the population mean and the observation is 6932.159029649596\n"
     ]
    }
   ],
   "source": [
    "obs_v_pop_mean()"
   ]
  },
  {
   "cell_type": "code",
   "execution_count": 95,
   "metadata": {},
   "outputs": [],
   "source": [
    "def obs_v_pop_mean2(n_observations):\n",
    "    pop_mean=df.TUITIONFEE_IN.mean()\n",
    "    df2=df.sample(n=n_observations)\n",
    "    randommean=df2.TUITIONFEE_IN.mean()\n",
    "    print(df2)\n",
    "    print('The mean tuition of the data set is',pop_mean)\n",
    "    print('The mean tuition of the random observations is',randommean)\n",
    "    print('The difference between the population mean and the random observations mean is',pop_mean-randommean)"
   ]
  },
  {
   "cell_type": "code",
   "execution_count": 96,
   "metadata": {},
   "outputs": [
    {
     "name": "stdout",
     "output_type": "stream",
     "text": [
      "      TUITIONFEE_IN\n",
      "1861         6546.0\n",
      "4880         4281.0\n",
      "5146        10800.0\n",
      "1357         8496.0\n",
      "4472         1142.0\n",
      "The mean tuition of the data set is 14686.159029649596\n",
      "The mean tuition of the random observations is 6253.0\n",
      "The difference between the population mean and the random observations mean is 8433.159029649596\n"
     ]
    }
   ],
   "source": [
    "obs_v_pop_mean2(5)"
   ]
  },
  {
   "cell_type": "code",
   "execution_count": 97,
   "metadata": {},
   "outputs": [
    {
     "name": "stdout",
     "output_type": "stream",
     "text": [
      "      TUITIONFEE_IN\n",
      "3938        39142.0\n",
      "6953        10240.0\n",
      "1522         3650.0\n",
      "630          4198.0\n",
      "5241        12879.0\n",
      "The mean tuition of the data set is 14686.159029649596\n",
      "The mean tuition of the random observations is 14021.8\n",
      "The difference between the population mean and the random observations mean is 664.3590296495968\n"
     ]
    }
   ],
   "source": [
    "obs_v_pop_mean2(5)"
   ]
  },
  {
   "cell_type": "code",
   "execution_count": 98,
   "metadata": {},
   "outputs": [
    {
     "name": "stdout",
     "output_type": "stream",
     "text": [
      "      TUITIONFEE_IN\n",
      "55          12340.0\n",
      "2810         7140.0\n",
      "3802         4163.0\n",
      "1881         2650.0\n",
      "140          8224.0\n",
      "The mean tuition of the data set is 14686.159029649596\n",
      "The mean tuition of the random observations is 6903.4\n",
      "The difference between the population mean and the random observations mean is 7782.759029649596\n"
     ]
    }
   ],
   "source": [
    "obs_v_pop_mean2(5)"
   ]
  },
  {
   "cell_type": "code",
   "execution_count": 99,
   "metadata": {},
   "outputs": [
    {
     "name": "stdout",
     "output_type": "stream",
     "text": [
      "      TUITIONFEE_IN\n",
      "963         37626.0\n",
      "5928        16184.0\n",
      "1537        36450.0\n",
      "828         12900.0\n",
      "553          3702.0\n",
      "6813         2540.0\n",
      "6527         9840.0\n",
      "544          1768.0\n",
      "2875         8317.0\n",
      "2714         3825.0\n",
      "The mean tuition of the data set is 14686.159029649596\n",
      "The mean tuition of the random observations is 13315.2\n",
      "The difference between the population mean and the random observations mean is 1370.9590296495953\n"
     ]
    }
   ],
   "source": [
    "obs_v_pop_mean2(10)"
   ]
  },
  {
   "cell_type": "code",
   "execution_count": 100,
   "metadata": {},
   "outputs": [
    {
     "name": "stdout",
     "output_type": "stream",
     "text": [
      "      TUITIONFEE_IN\n",
      "1639         5394.0\n",
      "3909         4107.0\n",
      "3369        31390.0\n",
      "1679        13100.0\n",
      "417         44020.0\n",
      "1724        19500.0\n",
      "6599        19800.0\n",
      "860          3169.0\n",
      "3305        23900.0\n",
      "812         15770.0\n",
      "The mean tuition of the data set is 14686.159029649596\n",
      "The mean tuition of the random observations is 18015.0\n",
      "The difference between the population mean and the random observations mean is -3328.840970350404\n"
     ]
    }
   ],
   "source": [
    "obs_v_pop_mean2(10)"
   ]
  },
  {
   "cell_type": "code",
   "execution_count": 101,
   "metadata": {},
   "outputs": [
    {
     "name": "stdout",
     "output_type": "stream",
     "text": [
      "      TUITIONFEE_IN\n",
      "2465         9574.0\n",
      "1354         3936.0\n",
      "3545        28480.0\n",
      "5073        18744.0\n",
      "3405        10880.0\n",
      "412         33268.0\n",
      "3073         5870.0\n",
      "1995         6990.0\n",
      "4904         6875.0\n",
      "3515         3052.0\n",
      "The mean tuition of the data set is 14686.159029649596\n",
      "The mean tuition of the random observations is 12766.9\n",
      "The difference between the population mean and the random observations mean is 1919.2590296495964\n"
     ]
    }
   ],
   "source": [
    "obs_v_pop_mean2(10)"
   ]
  },
  {
   "cell_type": "code",
   "execution_count": 102,
   "metadata": {},
   "outputs": [
    {
     "name": "stdout",
     "output_type": "stream",
     "text": [
      "      TUITIONFEE_IN\n",
      "1377        35830.0\n",
      "2422        12450.0\n",
      "4149        14325.0\n",
      "3321        10876.0\n",
      "1483         8596.0\n",
      "26           4896.0\n",
      "1237        20440.0\n",
      "435          1322.0\n",
      "3488         2280.0\n",
      "5535         7600.0\n",
      "3491         2424.0\n",
      "1927        24610.0\n",
      "2074         7142.0\n",
      "2820        11744.0\n",
      "7005         6444.0\n",
      "7040         4298.0\n",
      "1468        33600.0\n",
      "3325        16700.0\n",
      "6409        19948.0\n",
      "1358         8400.0\n",
      "The mean tuition of the data set is 14686.159029649596\n",
      "The mean tuition of the random observations is 12696.25\n",
      "The difference between the population mean and the random observations mean is 1989.909029649596\n"
     ]
    }
   ],
   "source": [
    "obs_v_pop_mean2(20)"
   ]
  },
  {
   "cell_type": "code",
   "execution_count": 103,
   "metadata": {},
   "outputs": [
    {
     "name": "stdout",
     "output_type": "stream",
     "text": [
      "      TUITIONFEE_IN\n",
      "4065         2850.0\n",
      "382          1488.0\n",
      "1795         5640.0\n",
      "1422         7620.0\n",
      "2468         7777.0\n",
      "5563        17664.0\n",
      "5707        10695.0\n",
      "169         12714.0\n",
      "2189         6350.0\n",
      "968          3012.0\n",
      "6523         9840.0\n",
      "2132         4546.0\n",
      "3485         2385.0\n",
      "23          25800.0\n",
      "1453        50960.0\n",
      "2047         2880.0\n",
      "1088        13500.0\n",
      "7093        14775.0\n",
      "3817         3851.0\n",
      "4245        10100.0\n",
      "The mean tuition of the data set is 14686.159029649596\n",
      "The mean tuition of the random observations is 10722.35\n",
      "The difference between the population mean and the random observations mean is 3963.8090296495957\n"
     ]
    }
   ],
   "source": [
    "obs_v_pop_mean2(20)"
   ]
  },
  {
   "cell_type": "code",
   "execution_count": null,
   "metadata": {},
   "outputs": [],
   "source": []
  },
  {
   "cell_type": "code",
   "execution_count": null,
   "metadata": {},
   "outputs": [],
   "source": []
  }
 ],
 "metadata": {
  "kernelspec": {
   "display_name": "Python 3",
   "language": "python",
   "name": "python3"
  },
  "language_info": {
   "codemirror_mode": {
    "name": "ipython",
    "version": 3
   },
   "file_extension": ".py",
   "mimetype": "text/x-python",
   "name": "python",
   "nbconvert_exporter": "python",
   "pygments_lexer": "ipython3",
   "version": "3.8.3"
  }
 },
 "nbformat": 4,
 "nbformat_minor": 4
}
