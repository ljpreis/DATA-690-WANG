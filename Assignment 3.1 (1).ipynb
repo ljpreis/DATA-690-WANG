{
 "cells": [
  {
   "cell_type": "code",
   "execution_count": 87,
   "metadata": {},
   "outputs": [
    {
     "name": "stdout",
     "output_type": "stream",
     "text": [
      "[[3, 7, 0, 3, 2, 1, 6, 0, 4, 3], [7, 8, 2, 0, 9, 2, 3, 8, 1, 1], [4, 4, 5, 0, 3, 4, 2, 1, 5, 7], [1, 9, 2, 1, 9, 1, 9, 5, 8, 3], [7, 3, 2, 0, 4, 7, 4, 4, 9, 1], [4, 7, 0, 3, 2, 4, 1, 8, 8, 2], [3, 1, 6, 1, 4, 4, 4, 3, 8, 7], [1, 1, 8, 9, 4, 0, 7, 2, 8, 2], [6, 0, 5, 3, 8, 5, 2, 6, 8, 5], [2, 9, 8, 3, 6, 9, 4, 8, 9, 4]]\n"
     ]
    }
   ],
   "source": [
    "##import random and make 10 lists with a nested for loop\n",
    "\n",
    "import random\n",
    "import copy\n",
    "\n",
    "number=10\n",
    "length=10\n",
    "\n",
    "lists_master = []\n",
    "for i in range(number):\n",
    "    sub_list = []\n",
    "    for j in range(length):\n",
    "        sub_list.append(random.randint(0, 9))\n",
    "    lists_master.append(sub_list)\n",
    "print(lists_master)\n"
   ]
  },
  {
   "cell_type": "code",
   "execution_count": 88,
   "metadata": {},
   "outputs": [
    {
     "name": "stdout",
     "output_type": "stream",
     "text": [
      "3 7 0 3 2 1 6 0 4 3\n",
      "7 8 2 0 9 2 3 8 1 1\n",
      "4 4 5 0 3 4 2 1 5 7\n",
      "1 9 2 1 9 1 9 5 8 3\n",
      "7 3 2 0 4 7 4 4 9 1\n",
      "4 7 0 3 2 4 1 8 8 2\n",
      "3 1 6 1 4 4 4 3 8 7\n",
      "1 1 8 9 4 0 7 2 8 2\n",
      "6 0 5 3 8 5 2 6 8 5\n",
      "2 9 8 3 6 9 4 8 9 4\n"
     ]
    }
   ],
   "source": [
    "##print lists in nic square seperated by space\n",
    "for i in range (number):\n",
    "   print(*lists_master[i], sep = \" \")"
   ]
  },
  {
   "cell_type": "code",
   "execution_count": 89,
   "metadata": {},
   "outputs": [
    {
     "name": "stdout",
     "output_type": "stream",
     "text": [
      "[[3, 7, 0, 3, 2, 1, 6, 0, 4, 3], [7, 8, 2, 0, 9, 2, 3, 8, 1, 1], [4, 4, 5, 0, 3, 4, 2, 1, 5, 7], [1, 9, 2, 1, 9, 1, 9, 5, 8, 3], [7, 3, 2, 0, 4, 7, 4, 4, 9, 1], [4, 7, 0, 3, 2, 4, 1, 8, 8, 2], [3, 1, 6, 1, 4, 4, 4, 3, 8, 7], [1, 1, 8, 9, 4, 0, 7, 2, 8, 2], [6, 0, 5, 3, 8, 5, 2, 6, 8, 5], [2, 9, 8, 3, 6, 9, 4, 8, 9, 4]]\n"
     ]
    }
   ],
   "source": [
    "##Make a copy that does not affect the origional\n",
    "lists_master2 = copy.deepcopy(lists_master)\n",
    "print(lists_master2)"
   ]
  },
  {
   "cell_type": "code",
   "execution_count": 90,
   "metadata": {},
   "outputs": [],
   "source": [
    "##Convert odd numbers to @ symbol\n",
    "for i in range (number):\n",
    "    lists_master2[i] = ([\"@\" if x % 2 != 0 else x for x in lists_master2[i]])\n",
    "\n",
    "\n"
   ]
  },
  {
   "cell_type": "code",
   "execution_count": 91,
   "metadata": {},
   "outputs": [
    {
     "name": "stdout",
     "output_type": "stream",
     "text": [
      "@ @ 0 @ 2 @ 6 0 4 @\n",
      "@ 8 2 0 @ 2 @ 8 @ @\n",
      "4 4 @ 0 @ 4 2 @ @ @\n",
      "@ @ 2 @ @ @ @ @ 8 @\n",
      "@ @ 2 0 4 @ 4 4 @ @\n",
      "4 @ 0 @ 2 4 @ 8 8 2\n",
      "@ @ 6 @ 4 4 4 @ 8 @\n",
      "@ @ 8 @ 4 0 @ 2 8 2\n",
      "6 0 @ @ 8 @ 2 6 8 @\n",
      "2 @ 8 @ 6 @ 4 8 @ 4\n"
     ]
    }
   ],
   "source": [
    "## print nice list\n",
    "for i in range (number):\n",
    "   print(*lists_master2[i], sep = \" \")"
   ]
  },
  {
   "cell_type": "code",
   "execution_count": 92,
   "metadata": {},
   "outputs": [
    {
     "name": "stdout",
     "output_type": "stream",
     "text": [
      "[[3, 7, 0, 3, 2, 1, 6, 0, 4, 3], [7, 8, 2, 0, 9, 2, 3, 8, 1, 1], [4, 4, 5, 0, 3, 4, 2, 1, 5, 7], [1, 9, 2, 1, 9, 1, 9, 5, 8, 3], [7, 3, 2, 0, 4, 7, 4, 4, 9, 1], [4, 7, 0, 3, 2, 4, 1, 8, 8, 2], [3, 1, 6, 1, 4, 4, 4, 3, 8, 7], [1, 1, 8, 9, 4, 0, 7, 2, 8, 2], [6, 0, 5, 3, 8, 5, 2, 6, 8, 5], [2, 9, 8, 3, 6, 9, 4, 8, 9, 4]]\n"
     ]
    }
   ],
   "source": [
    "##make copy that does not affect origional\n",
    "lists_master3 = copy.deepcopy(lists_master)\n",
    "print(lists_master3)"
   ]
  },
  {
   "cell_type": "code",
   "execution_count": 93,
   "metadata": {},
   "outputs": [],
   "source": [
    "##Add sum to end of row\n",
    "for i in range (number):\n",
    "    sum1=(sum(lists_master3[i]))\n",
    "    lists_master3[i].append(sum1)\n"
   ]
  },
  {
   "cell_type": "code",
   "execution_count": 94,
   "metadata": {},
   "outputs": [
    {
     "name": "stdout",
     "output_type": "stream",
     "text": [
      "3 7 0 3 2 1 6 0 4 3 29\n",
      "7 8 2 0 9 2 3 8 1 1 41\n",
      "4 4 5 0 3 4 2 1 5 7 35\n",
      "1 9 2 1 9 1 9 5 8 3 48\n",
      "7 3 2 0 4 7 4 4 9 1 41\n",
      "4 7 0 3 2 4 1 8 8 2 39\n",
      "3 1 6 1 4 4 4 3 8 7 41\n",
      "1 1 8 9 4 0 7 2 8 2 42\n",
      "6 0 5 3 8 5 2 6 8 5 48\n",
      "2 9 8 3 6 9 4 8 9 4 62\n"
     ]
    }
   ],
   "source": [
    "##Print nicely\n",
    "for i in range (number):\n",
    "   print(*lists_master3[i], sep = \" \")"
   ]
  },
  {
   "cell_type": "code",
   "execution_count": null,
   "metadata": {},
   "outputs": [],
   "source": []
  }
 ],
 "metadata": {
  "kernelspec": {
   "display_name": "Python 3",
   "language": "python",
   "name": "python3"
  },
  "language_info": {
   "codemirror_mode": {
    "name": "ipython",
    "version": 3
   },
   "file_extension": ".py",
   "mimetype": "text/x-python",
   "name": "python",
   "nbconvert_exporter": "python",
   "pygments_lexer": "ipython3",
   "version": "3.8.3"
  }
 },
 "nbformat": 4,
 "nbformat_minor": 4
}
