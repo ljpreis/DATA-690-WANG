{
  "nbformat": 4,
  "nbformat_minor": 0,
  "metadata": {
    "colab": {
      "name": "Lesson 2 practice.ipynb",
      "provenance": [],
      "authorship_tag": "ABX9TyNhDISZui5OYfF73XobF84R",
      "include_colab_link": true
    },
    "kernelspec": {
      "name": "python3",
      "display_name": "Python 3"
    }
  },
  "cells": [
    {
      "cell_type": "markdown",
      "metadata": {
        "id": "view-in-github",
        "colab_type": "text"
      },
      "source": [
        "<a href=\"https://colab.research.google.com/github/ljpreis/DATA-690-WANG/blob/master/Lesson_2_practice.ipynb\" target=\"_parent\"><img src=\"https://colab.research.google.com/assets/colab-badge.svg\" alt=\"Open In Colab\"/></a>"
      ]
    },
    {
      "cell_type": "markdown",
      "metadata": {
        "id": "DDjZ7-f1CUv4",
        "colab_type": "text"
      },
      "source": [
        "#this is a test notebook\n"
      ]
    },
    {
      "cell_type": "code",
      "metadata": {
        "id": "FpCIIzWACXYM",
        "colab_type": "code",
        "colab": {}
      },
      "source": [
        ""
      ],
      "execution_count": null,
      "outputs": []
    },
    {
      "cell_type": "code",
      "metadata": {
        "id": "iAFJT9oECaIR",
        "colab_type": "code",
        "colab": {
          "base_uri": "https://localhost:8080/",
          "height": 34
        },
        "outputId": "d40eac10-0684-4f9f-9a4d-1aa94153ee79"
      },
      "source": [
        "print (\"hello world\")"
      ],
      "execution_count": 1,
      "outputs": [
        {
          "output_type": "stream",
          "text": [
            "hello world\n"
          ],
          "name": "stdout"
        }
      ]
    },
    {
      "cell_type": "code",
      "metadata": {
        "id": "sU7wBURDCc4B",
        "colab_type": "code",
        "colab": {
          "base_uri": "https://localhost:8080/",
          "height": 51
        },
        "outputId": "936a6943-246a-48e6-a7dd-409af6b772dd"
      },
      "source": [
        "age=input(\"your age\")\n",
        "print(\"Hello World\", age)"
      ],
      "execution_count": 2,
      "outputs": [
        {
          "output_type": "stream",
          "text": [
            "your age29\n",
            "Hello World 29\n"
          ],
          "name": "stdout"
        }
      ]
    },
    {
      "cell_type": "code",
      "metadata": {
        "id": "O-qvmenyDpR4",
        "colab_type": "code",
        "colab": {}
      },
      "source": [
        "29"
      ],
      "execution_count": null,
      "outputs": []
    },
    {
      "cell_type": "markdown",
      "metadata": {
        "id": "EYMrkpk3DsfJ",
        "colab_type": "text"
      },
      "source": [
        "## Learn Python Data Types"
      ]
    },
    {
      "cell_type": "code",
      "metadata": {
        "id": "g-G8rvJVDv32",
        "colab_type": "code",
        "colab": {}
      },
      "source": [
        ""
      ],
      "execution_count": null,
      "outputs": []
    }
  ]
}