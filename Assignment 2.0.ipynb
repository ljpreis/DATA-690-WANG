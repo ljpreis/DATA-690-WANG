{
 "cells": [
  {
   "cell_type": "code",
   "execution_count": 6,
   "metadata": {},
   "outputs": [
    {
     "name": "stdout",
     "output_type": "stream",
     "text": [
      "Enter a list numbers separated by comma 4,8,6,5,3,2,8,9,2,5\n",
      "\n",
      "\n",
      "user list is  ['4', '8', '6', '5', '3', '2', '8', '9', '2', '5']\n",
      "[4, 8, 6, 5, 3, 2, 8, 9, 2, 5]\n",
      "Sum =  52\n",
      "Max = 9\n",
      "Min = 2\n",
      "Range = 2 - 9\n",
      "Mean = 5.2\n",
      "Variance = 5.76\n",
      "Standard Deviation 2.4\n"
     ]
    }
   ],
   "source": [
    "input_string = input(\"Enter a list numbers separated by comma \")\n",
    "\n",
    "#Asks User to input numbers and seperate by comma\n",
    "print(\"\\n\")\n",
    "a = input_string.split(\",\")\n",
    "#Printing users list\n",
    "print(\"user list is \", a)\n",
    "#Converting list to integers\n",
    "for i in range(0, len(a)): \n",
    "    a[i] = int(a[i]) \n",
    "# Calculating the sum of input list elements\n",
    "sum1 = 0\n",
    "for num in a:\n",
    "    sum1 = sum1 + (num)\n",
    "# Calculating min and max\n",
    "max1 = max(a) \n",
    "min1 = min(a)\n",
    "\n",
    "# Calculating the mean\n",
    "mean1 = sum1/len(a)\n",
    "\n",
    "# Calculating Variance\n",
    "n=len(a)\n",
    "deviations = [(x - mean1)**2 for x in a]\n",
    "sum2 = 0\n",
    "for num in deviations:\n",
    "    sum2 = sum2 + (num)\n",
    "    \n",
    "var1 = sum2/n\n",
    "\n",
    "#calculating standard deviation\n",
    "\n",
    "import math\n",
    "\n",
    "std_dev = math.sqrt(var1)\n",
    "\n",
    "#Prints assignment answers\n",
    "print(a)\n",
    "print(\"Sum = \", sum1)\n",
    "print (\"Max =\", max1)\n",
    "print (\"Min =\", min1)\n",
    "print (\"Range =\",min1,\"-\",max1)\n",
    "print (\"Mean =\",mean1)\n",
    "print (\"Variance =\", var1)\n",
    "print (\"Standard Deviation\", std_dev)"
   ]
  },
  {
   "cell_type": "code",
   "execution_count": null,
   "metadata": {},
   "outputs": [],
   "source": []
  }
 ],
 "metadata": {
  "kernelspec": {
   "display_name": "Python 3",
   "language": "python",
   "name": "python3"
  },
  "language_info": {
   "codemirror_mode": {
    "name": "ipython",
    "version": 3
   },
   "file_extension": ".py",
   "mimetype": "text/x-python",
   "name": "python",
   "nbconvert_exporter": "python",
   "pygments_lexer": "ipython3",
   "version": "3.8.3"
  }
 },
 "nbformat": 4,
 "nbformat_minor": 4
}
