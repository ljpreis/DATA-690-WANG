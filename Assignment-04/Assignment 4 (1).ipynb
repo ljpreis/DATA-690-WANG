{
 "cells": [
  {
   "cell_type": "code",
   "execution_count": 246,
   "metadata": {},
   "outputs": [],
   "source": [
    "#Open and Read File\n",
    "\n",
    "with open(\"census_cost.txt\",\"rt\") as f:\n",
    "    line_list = f.readlines()\n"
   ]
  },
  {
   "cell_type": "code",
   "execution_count": 247,
   "metadata": {},
   "outputs": [
    {
     "name": "stdout",
     "output_type": "stream",
     "text": [
      "Source: https://www.genealogybranches.com/censuscosts.html\n",
      "\n",
      "Census Year\tTotal Population\tCensus Cost\tAverage Cost Per Person\n",
      "\n",
      "1790\t3,929,214\t$44,377\t1.13 cents\n",
      "\n",
      "1800\t5,308,483\t$66,109\t1.24 cents\n",
      "\n",
      "1810\t7,239,881\t$178,445\t2.46 cents\n",
      "\n",
      "1820\t9,633,822\t$208,526\t2.16 cents\n",
      "\n",
      "1830\t12,866,020\t$378,545\t2.94 cents\n",
      "\n",
      "1840\t17,069,458\t$833,371\t4.88 cents\n",
      "\n",
      "1850\t23,191,876\t$1,423,351\t6.14 cents\n",
      "\n",
      "1860\t31,443,321\t$1,969,377\t6.26 cents\n",
      "\n",
      "1870\t38,558,371\t$3,421,198\t8.87 cents\n",
      "\n",
      "1880\t50,155,783\t$5,790,678\t11.54 cents\n",
      "\n",
      "1890\t62,979,766\t$11,547,127\t18.33 cents\n",
      "\n",
      "1900\t76,303,387\t$11,854,000\t15.54 cents\n",
      "\n",
      "1910\t91,972,266\t$15,968,000\t17.07 cents\n",
      "\n",
      "1920\t105,710,620\t$25,117,000\t23.76 cents\n",
      "\n",
      "1930\t122,775,046\t$40,156,000\t32.71 cents\n",
      "\n",
      "1940\t131,669,275\t$67,527,000\t51.29 cents\n",
      "\n",
      "1950\t151,325,798\t$91,462,000\t60.44 cents\n",
      "\n",
      "1960\t179,323,175\t$127,934,000\t71.34 cents\n",
      "\n",
      "1970\t203,302,031\t$247,653,000\t$1.22\n",
      "\n",
      "1980\t226,542,199\t$1,078,488,000\t$4.76\n",
      "\n",
      "1990\t248,718,301\t$2,492,830,000\t$10.02\n",
      "\n",
      "2000\t281,421,906\t$4.5 Billion\t$15.99\n",
      "\n",
      "2010*\t308,745,538\t$13 Billion\t$42.11\n"
     ]
    }
   ],
   "source": [
    "#printing the list\n",
    "for row in line_list:\n",
    "    print(row)"
   ]
  },
  {
   "cell_type": "code",
   "execution_count": 248,
   "metadata": {},
   "outputs": [],
   "source": [
    "#extractomg the top two lines\n",
    "top2_list = line_list[0:2]"
   ]
  },
  {
   "cell_type": "code",
   "execution_count": 249,
   "metadata": {},
   "outputs": [
    {
     "name": "stdout",
     "output_type": "stream",
     "text": [
      "Source: https://www.genealogybranches.com/censuscosts.html\n",
      "\n",
      "Census Year\tTotal Population\tCensus Cost\tAverage Cost Per Person\n",
      "\n"
     ]
    }
   ],
   "source": [
    "#printing the top two lines \n",
    "for row in top2_list:\n",
    "    print(row)"
   ]
  },
  {
   "cell_type": "code",
   "execution_count": 250,
   "metadata": {},
   "outputs": [],
   "source": [
    "#extracting data list\n",
    "data_list = line_list[2:25]"
   ]
  },
  {
   "cell_type": "code",
   "execution_count": 251,
   "metadata": {},
   "outputs": [
    {
     "name": "stdout",
     "output_type": "stream",
     "text": [
      "1790\t3,929,214\t$44,377\t1.13 cents\n",
      "\n",
      "1800\t5,308,483\t$66,109\t1.24 cents\n",
      "\n",
      "1810\t7,239,881\t$178,445\t2.46 cents\n",
      "\n",
      "1820\t9,633,822\t$208,526\t2.16 cents\n",
      "\n",
      "1830\t12,866,020\t$378,545\t2.94 cents\n",
      "\n",
      "1840\t17,069,458\t$833,371\t4.88 cents\n",
      "\n",
      "1850\t23,191,876\t$1,423,351\t6.14 cents\n",
      "\n",
      "1860\t31,443,321\t$1,969,377\t6.26 cents\n",
      "\n",
      "1870\t38,558,371\t$3,421,198\t8.87 cents\n",
      "\n",
      "1880\t50,155,783\t$5,790,678\t11.54 cents\n",
      "\n",
      "1890\t62,979,766\t$11,547,127\t18.33 cents\n",
      "\n",
      "1900\t76,303,387\t$11,854,000\t15.54 cents\n",
      "\n",
      "1910\t91,972,266\t$15,968,000\t17.07 cents\n",
      "\n",
      "1920\t105,710,620\t$25,117,000\t23.76 cents\n",
      "\n",
      "1930\t122,775,046\t$40,156,000\t32.71 cents\n",
      "\n",
      "1940\t131,669,275\t$67,527,000\t51.29 cents\n",
      "\n",
      "1950\t151,325,798\t$91,462,000\t60.44 cents\n",
      "\n",
      "1960\t179,323,175\t$127,934,000\t71.34 cents\n",
      "\n",
      "1970\t203,302,031\t$247,653,000\t$1.22\n",
      "\n",
      "1980\t226,542,199\t$1,078,488,000\t$4.76\n",
      "\n",
      "1990\t248,718,301\t$2,492,830,000\t$10.02\n",
      "\n",
      "2000\t281,421,906\t$4.5 Billion\t$15.99\n",
      "\n",
      "2010*\t308,745,538\t$13 Billion\t$42.11\n"
     ]
    }
   ],
   "source": [
    "#printing data list\n",
    "for row in data_list:\n",
    "    print(row)"
   ]
  },
  {
   "cell_type": "code",
   "execution_count": 252,
   "metadata": {},
   "outputs": [],
   "source": [
    "#Extract census year to year list and remove the \"*\" from 2010\n",
    "year_list = []\n",
    "for row in data_list:\n",
    "    item = (row[0:4])\n",
    "    year_list.append(item)\n",
    "   "
   ]
  },
  {
   "cell_type": "code",
   "execution_count": 253,
   "metadata": {},
   "outputs": [
    {
     "name": "stdout",
     "output_type": "stream",
     "text": [
      "1790\n",
      "1800\n",
      "1810\n",
      "1820\n",
      "1830\n",
      "1840\n",
      "1850\n",
      "1860\n",
      "1870\n",
      "1880\n",
      "1890\n",
      "1900\n",
      "1910\n",
      "1920\n",
      "1930\n",
      "1940\n",
      "1950\n",
      "1960\n",
      "1970\n",
      "1980\n",
      "1990\n",
      "2000\n",
      "2010\n"
     ]
    }
   ],
   "source": [
    "# print year_list\n",
    "for row in year_list:\n",
    "    print (row)"
   ]
  },
  {
   "cell_type": "code",
   "execution_count": 254,
   "metadata": {},
   "outputs": [],
   "source": [
    "#split the data_list into a list of lists\n",
    "def extractDigits(lst): \n",
    "    res = [] \n",
    "    for el in lst: \n",
    "        sub = el.split('\\t') \n",
    "        res.append(sub) \n",
    "      \n",
    "    return(res) \n",
    "                  \n",
    "# Driver code \n",
    "data_list_split = (extractDigits(data_list)) "
   ]
  },
  {
   "cell_type": "code",
   "execution_count": 255,
   "metadata": {},
   "outputs": [
    {
     "data": {
      "text/plain": [
       "[['1790', '3,929,214', '$44,377', '1.13 cents\\n'],\n",
       " ['1800', '5,308,483', '$66,109', '1.24 cents\\n'],\n",
       " ['1810', '7,239,881', '$178,445', '2.46 cents\\n'],\n",
       " ['1820', '9,633,822', '$208,526', '2.16 cents\\n'],\n",
       " ['1830', '12,866,020', '$378,545', '2.94 cents\\n'],\n",
       " ['1840', '17,069,458', '$833,371', '4.88 cents\\n'],\n",
       " ['1850', '23,191,876', '$1,423,351', '6.14 cents\\n'],\n",
       " ['1860', '31,443,321', '$1,969,377', '6.26 cents\\n'],\n",
       " ['1870', '38,558,371', '$3,421,198', '8.87 cents\\n'],\n",
       " ['1880', '50,155,783', '$5,790,678', '11.54 cents\\n'],\n",
       " ['1890', '62,979,766', '$11,547,127', '18.33 cents\\n'],\n",
       " ['1900', '76,303,387', '$11,854,000', '15.54 cents\\n'],\n",
       " ['1910', '91,972,266', '$15,968,000', '17.07 cents\\n'],\n",
       " ['1920', '105,710,620', '$25,117,000', '23.76 cents\\n'],\n",
       " ['1930', '122,775,046', '$40,156,000', '32.71 cents\\n'],\n",
       " ['1940', '131,669,275', '$67,527,000', '51.29 cents\\n'],\n",
       " ['1950', '151,325,798', '$91,462,000', '60.44 cents\\n'],\n",
       " ['1960', '179,323,175', '$127,934,000', '71.34 cents\\n'],\n",
       " ['1970', '203,302,031', '$247,653,000', '$1.22\\n'],\n",
       " ['1980', '226,542,199', '$1,078,488,000', '$4.76\\n'],\n",
       " ['1990', '248,718,301', '$2,492,830,000', '$10.02\\n'],\n",
       " ['2000', '281,421,906', '$4.5 Billion', '$15.99\\n'],\n",
       " ['2010*', '308,745,538', '$13 Billion', '$42.11']]"
      ]
     },
     "execution_count": 255,
     "metadata": {},
     "output_type": "execute_result"
    }
   ],
   "source": [
    "#check the list\n",
    "data_list_split"
   ]
  },
  {
   "cell_type": "code",
   "execution_count": 256,
   "metadata": {},
   "outputs": [],
   "source": [
    "#create pop_list by taking the second element from the lists in data_list_split and replace the commas with a nothing\n",
    "pop_list = []\n",
    "for row in data_list_split:\n",
    "    item = (row[1].replace(',',''))\n",
    "    pop_list.append(item)"
   ]
  },
  {
   "cell_type": "code",
   "execution_count": 257,
   "metadata": {},
   "outputs": [
    {
     "name": "stdout",
     "output_type": "stream",
     "text": [
      "3929214\n",
      "5308483\n",
      "7239881\n",
      "9633822\n",
      "12866020\n",
      "17069458\n",
      "23191876\n",
      "31443321\n",
      "38558371\n",
      "50155783\n",
      "62979766\n",
      "76303387\n",
      "91972266\n",
      "105710620\n",
      "122775046\n",
      "131669275\n",
      "151325798\n",
      "179323175\n",
      "203302031\n",
      "226542199\n",
      "248718301\n",
      "281421906\n",
      "308745538\n"
     ]
    }
   ],
   "source": [
    "# print pop_list to check\n",
    "for row in pop_list:\n",
    "    print (row)"
   ]
  },
  {
   "cell_type": "code",
   "execution_count": 258,
   "metadata": {},
   "outputs": [],
   "source": [
    "cost_list = []\n",
    "for row in data_list_split:\n",
    "    item = (row[2].replace(',',''))\n",
    "    cost_list.append(item)"
   ]
  },
  {
   "cell_type": "code",
   "execution_count": 259,
   "metadata": {},
   "outputs": [
    {
     "data": {
      "text/plain": [
       "['$44377',\n",
       " '$66109',\n",
       " '$178445',\n",
       " '$208526',\n",
       " '$378545',\n",
       " '$833371',\n",
       " '$1423351',\n",
       " '$1969377',\n",
       " '$3421198',\n",
       " '$5790678',\n",
       " '$11547127',\n",
       " '$11854000',\n",
       " '$15968000',\n",
       " '$25117000',\n",
       " '$40156000',\n",
       " '$67527000',\n",
       " '$91462000',\n",
       " '$127934000',\n",
       " '$247653000',\n",
       " '$1078488000',\n",
       " '$2492830000',\n",
       " '$4.5 Billion',\n",
       " '$13 Billion']"
      ]
     },
     "execution_count": 259,
     "metadata": {},
     "output_type": "execute_result"
    }
   ],
   "source": [
    "cost_list"
   ]
  },
  {
   "cell_type": "code",
   "execution_count": 260,
   "metadata": {},
   "outputs": [],
   "source": [
    "cost_list2 =[]\n",
    "for costs in cost_list:\n",
    "    item = (costs.replace('$',''))\n",
    "    cost_list2.append(item)\n",
    "    "
   ]
  },
  {
   "cell_type": "code",
   "execution_count": 261,
   "metadata": {},
   "outputs": [
    {
     "data": {
      "text/plain": [
       "['44377',\n",
       " '66109',\n",
       " '178445',\n",
       " '208526',\n",
       " '378545',\n",
       " '833371',\n",
       " '1423351',\n",
       " '1969377',\n",
       " '3421198',\n",
       " '5790678',\n",
       " '11547127',\n",
       " '11854000',\n",
       " '15968000',\n",
       " '25117000',\n",
       " '40156000',\n",
       " '67527000',\n",
       " '91462000',\n",
       " '127934000',\n",
       " '247653000',\n",
       " '1078488000',\n",
       " '2492830000',\n",
       " '4.5 Billion',\n",
       " '13 Billion']"
      ]
     },
     "execution_count": 261,
     "metadata": {},
     "output_type": "execute_result"
    }
   ],
   "source": [
    "cost_list2"
   ]
  },
  {
   "cell_type": "code",
   "execution_count": 262,
   "metadata": {},
   "outputs": [
    {
     "data": {
      "text/plain": [
       "'13000000000'"
      ]
     },
     "execution_count": 262,
     "metadata": {},
     "output_type": "execute_result"
    }
   ],
   "source": [
    "#Fix element \n",
    "cost_list2[22]=(cost_list2[22].replace('Billion','000000000'))\n",
    "cost_list2[22]=(cost_list2[22].replace(' ',''))\n",
    "cost_list2[22]"
   ]
  },
  {
   "cell_type": "code",
   "execution_count": 263,
   "metadata": {},
   "outputs": [
    {
     "data": {
      "text/plain": [
       "'4500000000'"
      ]
     },
     "execution_count": 263,
     "metadata": {},
     "output_type": "execute_result"
    }
   ],
   "source": [
    "#fix other element\n",
    "cost_list2[21]=(cost_list2[21].replace('Billion','00000000'))\n",
    "cost_list2[21]=(cost_list2[21].replace(' ',''))\n",
    "cost_list2[21]=(cost_list2[21].replace('.',''))\n",
    "cost_list2[21]"
   ]
  },
  {
   "cell_type": "code",
   "execution_count": 264,
   "metadata": {},
   "outputs": [
    {
     "data": {
      "text/plain": [
       "['44377',\n",
       " '66109',\n",
       " '178445',\n",
       " '208526',\n",
       " '378545',\n",
       " '833371',\n",
       " '1423351',\n",
       " '1969377',\n",
       " '3421198',\n",
       " '5790678',\n",
       " '11547127',\n",
       " '11854000',\n",
       " '15968000',\n",
       " '25117000',\n",
       " '40156000',\n",
       " '67527000',\n",
       " '91462000',\n",
       " '127934000',\n",
       " '247653000',\n",
       " '1078488000',\n",
       " '2492830000',\n",
       " '4500000000',\n",
       " '13000000000']"
      ]
     },
     "execution_count": 264,
     "metadata": {},
     "output_type": "execute_result"
    }
   ],
   "source": [
    "#print list to check\n",
    "cost_list2"
   ]
  },
  {
   "cell_type": "code",
   "execution_count": 265,
   "metadata": {},
   "outputs": [],
   "source": [
    "#get average cost list replace cents line split and space\n",
    "\n",
    "avg_list = []\n",
    "for row in data_list_split:\n",
    "    item = (row[3].replace('cents',''))\n",
    "    item2 = item.replace('\\n','')\n",
    "    item3 = item2.replace(' ','')\n",
    "    avg_list.append(item3)"
   ]
  },
  {
   "cell_type": "code",
   "execution_count": 266,
   "metadata": {},
   "outputs": [
    {
     "data": {
      "text/plain": [
       "['1.13',\n",
       " '1.24',\n",
       " '2.46',\n",
       " '2.16',\n",
       " '2.94',\n",
       " '4.88',\n",
       " '6.14',\n",
       " '6.26',\n",
       " '8.87',\n",
       " '11.54',\n",
       " '18.33',\n",
       " '15.54',\n",
       " '17.07',\n",
       " '23.76',\n",
       " '32.71',\n",
       " '51.29',\n",
       " '60.44',\n",
       " '71.34',\n",
       " '$1.22',\n",
       " '$4.76',\n",
       " '$10.02',\n",
       " '$15.99',\n",
       " '$42.11']"
      ]
     },
     "execution_count": 266,
     "metadata": {},
     "output_type": "execute_result"
    }
   ],
   "source": [
    "#check average list\n",
    "avg_list"
   ]
  },
  {
   "cell_type": "code",
   "execution_count": 267,
   "metadata": {},
   "outputs": [],
   "source": [
    "#remove deicmal if there is a dollar sign\n",
    "avg_list2 = []\n",
    "for item in avg_list:\n",
    "    if '$' in item:\n",
    "        item = item.replace('.','')\n",
    "    avg_list2.append(item)"
   ]
  },
  {
   "cell_type": "code",
   "execution_count": 268,
   "metadata": {},
   "outputs": [
    {
     "data": {
      "text/plain": [
       "['1.13',\n",
       " '1.24',\n",
       " '2.46',\n",
       " '2.16',\n",
       " '2.94',\n",
       " '4.88',\n",
       " '6.14',\n",
       " '6.26',\n",
       " '8.87',\n",
       " '11.54',\n",
       " '18.33',\n",
       " '15.54',\n",
       " '17.07',\n",
       " '23.76',\n",
       " '32.71',\n",
       " '51.29',\n",
       " '60.44',\n",
       " '71.34',\n",
       " '$122',\n",
       " '$476',\n",
       " '$1002',\n",
       " '$1599',\n",
       " '$4211']"
      ]
     },
     "execution_count": 268,
     "metadata": {},
     "output_type": "execute_result"
    }
   ],
   "source": [
    "#check list\n",
    "avg_list2"
   ]
  },
  {
   "cell_type": "code",
   "execution_count": 269,
   "metadata": {},
   "outputs": [],
   "source": [
    "#now can get rid of the dollar signs\n",
    "avg_list3 =[]\n",
    "for costs in avg_list2:\n",
    "    item = (costs.replace('$',''))\n",
    "    avg_list3.append(item)"
   ]
  },
  {
   "cell_type": "code",
   "execution_count": 270,
   "metadata": {},
   "outputs": [
    {
     "data": {
      "text/plain": [
       "['1.13',\n",
       " '1.24',\n",
       " '2.46',\n",
       " '2.16',\n",
       " '2.94',\n",
       " '4.88',\n",
       " '6.14',\n",
       " '6.26',\n",
       " '8.87',\n",
       " '11.54',\n",
       " '18.33',\n",
       " '15.54',\n",
       " '17.07',\n",
       " '23.76',\n",
       " '32.71',\n",
       " '51.29',\n",
       " '60.44',\n",
       " '71.34',\n",
       " '122',\n",
       " '476',\n",
       " '1002',\n",
       " '1599',\n",
       " '4211']"
      ]
     },
     "execution_count": 270,
     "metadata": {},
     "output_type": "execute_result"
    }
   ],
   "source": [
    "#check list\n",
    "avg_list3"
   ]
  },
  {
   "cell_type": "code",
   "execution_count": 271,
   "metadata": {},
   "outputs": [],
   "source": [
    "\n",
    "avg_list4=[float(i) for i in avg_list3]"
   ]
  },
  {
   "cell_type": "code",
   "execution_count": 272,
   "metadata": {},
   "outputs": [],
   "source": [
    "avg_list5 =[]\n",
    "for costs in avg_list4:\n",
    "    item = costs/100\n",
    "    avg_list5.append(item)"
   ]
  },
  {
   "cell_type": "code",
   "execution_count": 273,
   "metadata": {},
   "outputs": [
    {
     "data": {
      "text/plain": [
       "[0.0113,\n",
       " 0.0124,\n",
       " 0.0246,\n",
       " 0.0216,\n",
       " 0.0294,\n",
       " 0.048799999999999996,\n",
       " 0.061399999999999996,\n",
       " 0.0626,\n",
       " 0.08869999999999999,\n",
       " 0.11539999999999999,\n",
       " 0.1833,\n",
       " 0.15539999999999998,\n",
       " 0.1707,\n",
       " 0.2376,\n",
       " 0.3271,\n",
       " 0.5129,\n",
       " 0.6043999999999999,\n",
       " 0.7134,\n",
       " 1.22,\n",
       " 4.76,\n",
       " 10.02,\n",
       " 15.99,\n",
       " 42.11]"
      ]
     },
     "execution_count": 273,
     "metadata": {},
     "output_type": "execute_result"
    }
   ],
   "source": [
    "avg_list5"
   ]
  },
  {
   "cell_type": "code",
   "execution_count": null,
   "metadata": {},
   "outputs": [],
   "source": []
  },
  {
   "cell_type": "code",
   "execution_count": 274,
   "metadata": {},
   "outputs": [],
   "source": [
    "#Zip lists together\n",
    "x= zip(year_list, pop_list,cost_list2,avg_list5)"
   ]
  },
  {
   "cell_type": "code",
   "execution_count": 275,
   "metadata": {},
   "outputs": [
    {
     "name": "stdout",
     "output_type": "stream",
     "text": [
      "<zip object at 0x7fa4c0c88300>\n"
     ]
    }
   ],
   "source": [
    "#check lists\n",
    "print(x)"
   ]
  },
  {
   "cell_type": "code",
   "execution_count": 276,
   "metadata": {},
   "outputs": [],
   "source": [
    "\n",
    "a = list(x)\n"
   ]
  },
  {
   "cell_type": "code",
   "execution_count": 277,
   "metadata": {},
   "outputs": [
    {
     "name": "stdout",
     "output_type": "stream",
     "text": [
      "[('1790', '3929214', '44377', 0.0113), ('1800', '5308483', '66109', 0.0124), ('1810', '7239881', '178445', 0.0246), ('1820', '9633822', '208526', 0.0216), ('1830', '12866020', '378545', 0.0294), ('1840', '17069458', '833371', 0.048799999999999996), ('1850', '23191876', '1423351', 0.061399999999999996), ('1860', '31443321', '1969377', 0.0626), ('1870', '38558371', '3421198', 0.08869999999999999), ('1880', '50155783', '5790678', 0.11539999999999999), ('1890', '62979766', '11547127', 0.1833), ('1900', '76303387', '11854000', 0.15539999999999998), ('1910', '91972266', '15968000', 0.1707), ('1920', '105710620', '25117000', 0.2376), ('1930', '122775046', '40156000', 0.3271), ('1940', '131669275', '67527000', 0.5129), ('1950', '151325798', '91462000', 0.6043999999999999), ('1960', '179323175', '127934000', 0.7134), ('1970', '203302031', '247653000', 1.22), ('1980', '226542199', '1078488000', 4.76), ('1990', '248718301', '2492830000', 10.02), ('2000', '281421906', '4500000000', 15.99), ('2010', '308745538', '13000000000', 42.11)]\n"
     ]
    }
   ],
   "source": [
    "print (a)"
   ]
  },
  {
   "cell_type": "code",
   "execution_count": 278,
   "metadata": {},
   "outputs": [
    {
     "name": "stdout",
     "output_type": "stream",
     "text": [
      "('1790', '3929214', '44377', 0.0113)\n",
      "('1800', '5308483', '66109', 0.0124)\n",
      "('1810', '7239881', '178445', 0.0246)\n",
      "('1820', '9633822', '208526', 0.0216)\n",
      "('1830', '12866020', '378545', 0.0294)\n",
      "('1840', '17069458', '833371', 0.048799999999999996)\n",
      "('1850', '23191876', '1423351', 0.061399999999999996)\n",
      "('1860', '31443321', '1969377', 0.0626)\n",
      "('1870', '38558371', '3421198', 0.08869999999999999)\n",
      "('1880', '50155783', '5790678', 0.11539999999999999)\n",
      "('1890', '62979766', '11547127', 0.1833)\n",
      "('1900', '76303387', '11854000', 0.15539999999999998)\n",
      "('1910', '91972266', '15968000', 0.1707)\n",
      "('1920', '105710620', '25117000', 0.2376)\n",
      "('1930', '122775046', '40156000', 0.3271)\n",
      "('1940', '131669275', '67527000', 0.5129)\n",
      "('1950', '151325798', '91462000', 0.6043999999999999)\n",
      "('1960', '179323175', '127934000', 0.7134)\n",
      "('1970', '203302031', '247653000', 1.22)\n",
      "('1980', '226542199', '1078488000', 4.76)\n",
      "('1990', '248718301', '2492830000', 10.02)\n",
      "('2000', '281421906', '4500000000', 15.99)\n",
      "('2010', '308745538', '13000000000', 42.11)\n"
     ]
    }
   ],
   "source": [
    "for row in a:\n",
    "    print (row)"
   ]
  },
  {
   "cell_type": "code",
   "execution_count": 279,
   "metadata": {},
   "outputs": [],
   "source": [
    "\n",
    "                  \n",
    "# Driver code \n",
    "data_list_split2 = (extractDigits(top2_list)) \n",
    " "
   ]
  },
  {
   "cell_type": "code",
   "execution_count": null,
   "metadata": {},
   "outputs": [],
   "source": []
  },
  {
   "cell_type": "code",
   "execution_count": 280,
   "metadata": {},
   "outputs": [
    {
     "data": {
      "text/plain": [
       "[['Source: https://www.genealogybranches.com/censuscosts.html\\n'],\n",
       " ['Census Year',\n",
       "  'Total Population',\n",
       "  'Census Cost',\n",
       "  'Average Cost Per Person\\n']]"
      ]
     },
     "execution_count": 280,
     "metadata": {},
     "output_type": "execute_result"
    }
   ],
   "source": [
    "data_list_split2"
   ]
  },
  {
   "cell_type": "code",
   "execution_count": null,
   "metadata": {},
   "outputs": [],
   "source": []
  },
  {
   "cell_type": "code",
   "execution_count": null,
   "metadata": {},
   "outputs": [],
   "source": [
    "\n"
   ]
  },
  {
   "cell_type": "code",
   "execution_count": null,
   "metadata": {},
   "outputs": [],
   "source": []
  },
  {
   "cell_type": "code",
   "execution_count": null,
   "metadata": {},
   "outputs": [],
   "source": []
  },
  {
   "cell_type": "code",
   "execution_count": 294,
   "metadata": {},
   "outputs": [],
   "source": [
    "#write file by writing header and columns\n",
    "\n",
    "with open('census_cost.csv', 'w') as f:\n",
    "    for _list in data_list_split2:\n",
    "        for _string in _list:\n",
    "            #f.seek(0)\n",
    "            f.write(str(_string) + ',')\n",
    "    for row in a:\n",
    "        f.write(str(row) + '\\n')\n",
    "    f.close()\n",
    "           \n",
    "            "
   ]
  },
  {
   "cell_type": "code",
   "execution_count": 291,
   "metadata": {},
   "outputs": [
    {
     "ename": "ValueError",
     "evalue": "I/O operation on closed file.",
     "output_type": "error",
     "traceback": [
      "\u001b[0;31m---------------------------------------------------------------------------\u001b[0m",
      "\u001b[0;31mValueError\u001b[0m                                Traceback (most recent call last)",
      "\u001b[0;32m<ipython-input-291-f712ffd26a33>\u001b[0m in \u001b[0;36m<module>\u001b[0;34m\u001b[0m\n\u001b[1;32m      1\u001b[0m \u001b[0;32mfor\u001b[0m \u001b[0mrow\u001b[0m \u001b[0;32min\u001b[0m \u001b[0ma\u001b[0m\u001b[0;34m:\u001b[0m\u001b[0;34m\u001b[0m\u001b[0;34m\u001b[0m\u001b[0m\n\u001b[0;32m----> 2\u001b[0;31m     \u001b[0mf\u001b[0m\u001b[0;34m.\u001b[0m\u001b[0mwrite\u001b[0m\u001b[0;34m(\u001b[0m\u001b[0mstr\u001b[0m\u001b[0;34m(\u001b[0m\u001b[0m_string\u001b[0m\u001b[0;34m)\u001b[0m \u001b[0;34m+\u001b[0m \u001b[0;34m'\\n'\u001b[0m\u001b[0;34m)\u001b[0m\u001b[0;34m\u001b[0m\u001b[0;34m\u001b[0m\u001b[0m\n\u001b[0m\u001b[1;32m      3\u001b[0m \u001b[0;34m\u001b[0m\u001b[0m\n\u001b[1;32m      4\u001b[0m \u001b[0;34m\u001b[0m\u001b[0m\n",
      "\u001b[0;31mValueError\u001b[0m: I/O operation on closed file."
     ]
    }
   ],
   "source": [
    "\n",
    "for row in a:\n",
    "    f.write(str(_string) + '\\n')\n",
    "        \n",
    "    "
   ]
  },
  {
   "cell_type": "code",
   "execution_count": null,
   "metadata": {},
   "outputs": [],
   "source": []
  }
 ],
 "metadata": {
  "kernelspec": {
   "display_name": "Python 3",
   "language": "python",
   "name": "python3"
  },
  "language_info": {
   "codemirror_mode": {
    "name": "ipython",
    "version": 3
   },
   "file_extension": ".py",
   "mimetype": "text/x-python",
   "name": "python",
   "nbconvert_exporter": "python",
   "pygments_lexer": "ipython3",
   "version": "3.8.3"
  }
 },
 "nbformat": 4,
 "nbformat_minor": 4
}
